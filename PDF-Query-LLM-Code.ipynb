{
 "cells": [
  {
   "cell_type": "code",
   "execution_count": 1,
   "id": "edf197ec",
   "metadata": {},
   "outputs": [
    {
     "name": "stdout",
     "output_type": "stream",
     "text": [
      "\u001b[33mWARNING: Error parsing dependencies of textract: .* suffix can only be used with `==` or `!=` operators\n",
      "    extract-msg (<=0.29.*)\n",
      "                 ~~~~~~~^\u001b[0m\u001b[33m\n",
      "\u001b[0mNote: you may need to restart the kernel to use updated packages.\n"
     ]
    }
   ],
   "source": [
    "pip install -q cassio datasets langchain openai tiktoken"
   ]
  },
  {
   "cell_type": "code",
   "execution_count": 2,
   "id": "e5ac569f",
   "metadata": {},
   "outputs": [],
   "source": [
    "# LangChain components to use\n",
    "from langchain.vectorstores.cassandra import Cassandra\n",
    "from langchain.indexes.vectorstore import VectorStoreIndexWrapper\n",
    "from langchain.llms import OpenAI\n",
    "from langchain.embeddings import OpenAIEmbeddings\n",
    "\n",
    "# Support for dataset retrieval with Hugging Face\n",
    "from datasets import load_dataset\n",
    "\n",
    "# Initialize the DB connection using CassIO\n",
    "import cassio\n",
    "from sqlalchemy.engine import URL "
   ]
  },
  {
   "cell_type": "code",
   "execution_count": 3,
   "id": "29f447fb",
   "metadata": {},
   "outputs": [
    {
     "name": "stdout",
     "output_type": "stream",
     "text": [
      "Requirement already satisfied: PyPDF2 in ./anaconda3/lib/python3.11/site-packages (3.0.1)\n",
      "\u001b[33mWARNING: Error parsing dependencies of textract: .* suffix can only be used with `==` or `!=` operators\n",
      "    extract-msg (<=0.29.*)\n",
      "                 ~~~~~~~^\u001b[0m\u001b[33m\n",
      "\u001b[0m"
     ]
    }
   ],
   "source": [
    "!pip install PyPDF2"
   ]
  },
  {
   "cell_type": "code",
   "execution_count": 4,
   "id": "88c094c9",
   "metadata": {},
   "outputs": [],
   "source": [
    "from PyPDF2 import PdfReader"
   ]
  },
  {
   "cell_type": "code",
   "execution_count": 31,
   "id": "067304ff",
   "metadata": {},
   "outputs": [],
   "source": [
    "ASTRA_DB_APPLICATION_TOKEN = \"AstraCS:lSCGWhBCuTaYYKTyRepoRZXZ:05c8b10ddb6e3f69d606e8afdd24788552f1bcd7083c1f0879ba97aaf4f81032\" # enter the \"AstraCS:...\" string found in in your Token JSON file\n",
    "ASTRA_DB_ID = \"14882e00-9550-4fa3-853a-0daf5b13c557\" # enter your Database ID\n",
    "\n",
    "OPENAI_API_KEY = \"sk-J3ZbnEqytFesD7kWKuVaT3BlbkVr9dpDbViv2R2un\" # enter your OpenAI key"
   ]
  },
  {
   "cell_type": "code",
   "execution_count": 32,
   "id": "5704fbed",
   "metadata": {},
   "outputs": [],
   "source": [
    "# provide the path of  pdf file/files.\n",
    "pdfreader = PdfReader('/Users/jameelakthar/Downloads/c026a-summary-of-union-interim-budget-2024-25.pdf')"
   ]
  },
  {
   "cell_type": "code",
   "execution_count": 33,
   "id": "42fd73d8",
   "metadata": {},
   "outputs": [],
   "source": [
    "from typing_extensions import Concatenate\n",
    "# read text from pdf\n",
    "raw_text = ''\n",
    "for i, page in enumerate(pdfreader.pages):\n",
    "    content = page.extract_text()\n",
    "    if content:\n",
    "        raw_text += content"
   ]
  },
  {
   "cell_type": "code",
   "execution_count": 34,
   "id": "2210628f",
   "metadata": {
    "scrolled": true
   },
   "outputs": [
    {
     "data": {
      "text/plain": [
       "\"WHAT IS A BUDGET?\\nAs per Article 112 of the Constitution, Budget is known as Annual Financial Statement of the \\nGovernment.\\nThe term ‘Budget’ is not mentioned in the Constitution.\\nIt is the statement of estimated receipts and expenditure of the Government in a financial year.\\nUnion Budget is classified into Revenue Budget(including Tax and Non-Tax revenue receipts and \\nexpenditure of the government) and Capital Budget (including capital receipts and payments of \\nthe government).\\nPreparation of budget:\\nDepartment of Economic Affairs, Ministry of Finance is the nodal body responsible for \\npreparing of the Budget.\\nBudget for a year is prepared by the Budget Division of Department of Economic Affairs.\\nIt is prepared broadly on the basis of detailed estimates of expenditure and receipts \\nreceived from various Departments/Ministries and its own subordinate estimating \\nauthorities.\\nBudget is prepared on Cash Basis (i.e. whatever is expected to be actually received or paid \\nunder proper sanction during a financial year).\\nPresentation of budget:\\nPresident in every financial year cause to be laid before both the                                                                                        \\nHouses of Parliament the annual financial statement.\\nIn the Parliament, the budget is presented by the Union Finance                                                                                  \\nMinister, in two parts consisting of Part A and B.\\nPart A: It is the macroeconomic part of the budget where various                                                        \\nschemes and priorities of government are announced, and                                                                 \\nallocations are made to several sectors.Part B: It deals with Finance Bill, which contains taxation proposals such as income tax \\nrevisions and indirect taxes.\\nMajor budget documents: Apart from the Finance Minister’s Budget Speech, following documents \\nare presented to Parliament:\\nAnnual Financial Statement (under Article 112) ,\\nDemands for Grants (under Article 113),\\nFinance Bill (under article 110)\\nFiscal Policy Statements mandated under FRBM Act -\\nMacro-Economic Framework Statement.\\nMedium-Term Fiscal Policy cum Fiscal Policy Strategy Statement.\\nOther explanatory documents are also presented like:\\nExpenditure Budget\\nReceipt Budget\\nExpenditure Profile\\nBudget at a Glance\\nKey Features of Budget 2024-25\\nImplementation of Budget Announcements, 2023-24\\nONLINE  |  DELHI  |  AHMEDABAD  |  BHOPAL  |  CHANDIGARH  |  GUWAHATI  |  HYDERABAD  |  JAIPUR  |  JODHPUR  |  LUCKNOW  |  PRAYAGRAJ  |  PUNE  |  RANCHI  |  SIKAR 1\\n2024-25UNION  INTERIMSUMMARY OFAs per Article 112 of the Constitution, Budget is known as Annual Financial Statement of the \\nGovernment.\\nThe term ‘Budget’ is not mentioned in the Constitution.\\nIt is the statement of estimated receipts and expenditure of the Government in a financial year.\\nUnion Budget is classified into Revenue Budget(including Tax and Non-Tax revenue receipts and \\nexpenditure of the government) and Capital Budget (including capital receipts and payments of \\nthe government).\\nPreparation of budget:\\nDepartment of Economic Affairs, Ministry of Finance is the nodal body responsible for \\npreparing of the Budget.\\nBudget for a year is prepared by the Budget Division of Department of Economic Affairs.\\nIt is prepared broadly on the basis of detailed estimates of expenditure and receipts \\nreceived from various Departments/Ministries and its own subordinate estimating \\nauthorities.\\nBudget is prepared on Cash Basis (i.e. whatever is expected to be actually received or paid \\nunder proper sanction during a financial year).\\nPresentation of budget:\\nPresident in every financial year cause to be laid before both the                                                                                        \\nHouses of Parliament the annual financial statement.\\nIn the Parliament, the budget is presented by the Union Finance                                                                                  \\nMinister, in two parts consisting of Part A and B.\\nPart A: It is the macroeconomic part of the budget where various                                                        \\nschemes and priorities of government are announced, and                                                                 \\nallocations are made to several sectors.Part B: It deals with Finance Bill, which contains taxation proposals such as income tax \\nrevisions and indirect taxes.\\nMajor budget documents: Apart from the Finance Minister’s Budget Speech, following documents \\nare presented to Parliament:\\nAnnual Financial Statement (under Article 112) ,\\nDemands for Grants (under Article 113),\\nFinance Bill (under article 110)\\nFiscal Policy Statements mandated under FRBM Act -\\nMacro-Economic Framework Statement.\\nMedium-Term Fiscal Policy cum Fiscal Policy Strategy Statement.\\nOther explanatory documents are also presented like:\\nExpenditure Budget\\nReceipt Budget\\nExpenditure Profile\\nBudget at a Glance\\nKey Features of Budget 2024-25\\nImplementation of Budget Announcements, 2023-24Union Interim Budget 2024-25\\nONLINE  |  DELHI  |  AHMEDABAD  |  BHOPAL  |  CHANDIGARH  |  GUWAHATI  |  HYDERABAD  |  JAIPUR  |  JODHPUR  |  LUCKNOW  |  PRAYAGRAJ  |  PUNE  |  RANCHI  |  SIKAR 2HISTORY OF BUDGET\\nPre Independence:\\nBudget was first introduced on 7th \\nApril, 1860, two years after the \\ntransfer of Indian administration from  \\nEast-India Company to British Crown.\\nThe first Finance Member, who \\npresented the Budget, was James \\nWilson.\\nMr Liaquat Ali Khan, member of the \\ninterim Government presented the \\nbudget of 1947-48.Post-Independence:\\nIndia’s first Finance Minister Shri R.K. \\nShanmukham Chetty, presented the \\nfirst Budget on 26th November, 1947.\\nSince then, the process of budget \\nhas evolved and emerged as a \\ncrucial tool for Public Finance \\nManagement and reflect the \\nstrength of our democratic \\nprocesses in shaping our economy.\\nBUDGET\\nBUDGET PROCESS\\nINTERIM BUDGET 2024-25\\nGeneral Discussuion \\non Budget in both the \\nHousesDetalied discussion and \\nvoting on Demand for \\nGrants in Lok sabha \\nBudget is\\npresentedStanding Committees \\nscrutinise individual ministers' \\nDemand for  GrantsAppropriation and \\nFinance Bill passed\\nSince 2024 is an election year, instead of a normal budget, an interim budget will be presented \\nthis year.\\nInterim budget: It is a short-term financial plan that covers government expenses until the \\nelections.\\nUnlike a normal budget, which covers every aspect of government finances, including revenues, \\nexpenditures, allocations, and policy statements, interim budget only outlines the government’s \\nanticipated revenues and expenses until the new government is formed.\\nAs part of Interim budget, the Parliament passes a vote-on-account.\\nVote-on-account : According to Article 116 of the Constitution, a vote-on-account represents an \\nadvance payment to the government from the Consolidated Fund of India, for meeting immediate \\nexpenditure requirements.\\nUnion Interim Budget 2024-25THE ENTIRE PROCESS IS COMPLETED IN THE FOLLOWING STEPS-\\nONLINE  |  DELHI  |  AHMEDABAD  |  BHOPAL  |  CHANDIGARH  |  GUWAHATI  |  HYDERABAD  |  JAIPUR  |  JODHPUR  |  LUCKNOW  |  PRAYAGRAJ  |  PUNE  |  RANCHI  |  SIKAR 3Vision of Budget: Viksit Bharat by 2047 “Prosperous \\nBharat in harmony with nature, modern infrastructure \\nand opportunities for all”\\nDevelopment Mantra of Budget: Sabka Saath, Sabka \\nVikas, and Sabka Vishwas’ whole of nation’ approach of \\n‘Sabka Prayas’.\\nPhilosophy is to cover all elements of inclusivity.\\nSocial inclusivity- through coverage of all strata \\nof the society,\\nGeographical inclusivity- through development of \\nall regions of the country.\\nONLINE  |  DELHI  |  AHMEDABAD  |  BHOPAL  |  CHANDIGARH  |  GUWAHATI  |  HYDERABAD  |  JAIPUR  |  JODHPUR  |  LUCKNOW  |  PRAYAGRAJ  |  PUNE  |  RANCHI  |  SIKAR 4BUDGET 2024-25\\nFOCUS AREAS \\nKEY ACHIEVEMENTS IN FOCUS AREAS:Sabka Saath,\\nSabka Vikas\\nSabka Saath,\\nSabka Vikas,\\nSabka Vishwas\\nDeveloped India\\n@2047PART A\\n‘Garib’\\n(Poor)Mahilayen’\\n(Women)‘Yuva’\\n(Youth or\\nAmrit\\nPeedhi)‘Annadata’\\n(Farmer)\\nGarib (Poor)\\nAlleviation of poverty: 25 crore people got freedom from multi-dimensional poverty.\\nDirect Benefit Transfer: 34 lakh crore DBT using PM-Jan Dhan accounts has led to savings of \\n2.7 lakh crore for the Government. \\nPM-SVANidhi \\nCredit assistance provided to 78 lakh street vendors. \\n2.3 lakh have received credit for the third time. \\nPM-JANMAN Yojana: Helped in reaching out to the particularly vulnerable tribal groups. \\nPM-Vishwakarma Yojana: Provided end-to-end support to artisans and craftspeople \\nengaged in 18 trades. Comprehensive\\ndevelopment of all\\nTrinity of \\ndemography, \\ndemocracy and \\ndiversity, backed \\nby 'Sabka Prayas'Union Interim Budget 2024-25ONLINE  |  DELHI  |  AHMEDABAD  |  BHOPAL  |  CHANDIGARH  |  GUWAHATI  |  HYDERABAD  |  JAIPUR  |  JODHPUR  |  LUCKNOW  |  PRAYAGRAJ  |  PUNE  |  RANCHI  |  SIKAR 5Mahilayen (Women)\\nThirty crore Mudra Yojana loans have been given to \\nwomen entrepreneurs.\\nFemale enrolment in higher education has gone up by \\ntwenty-eight per cent in ten years. \\nIn STEM courses, girls and women constitute forty-three \\nper cent of enrolment - one of the highest in the world.\\nEnhancement of Women’s dignity by\\nMaking ‘Triple Talaq’ illegal\\nReservation of one-third seats for women in the Lok Sabha \\nand State legislative assemblies\\nGiving over 70% houses under PM Awas Yojana in rural \\nareas to women as sole or joint owners.Union Interim Budget 2024-25Yuva (Youth or Amrit Peedhi)\\nThe National Education Policy 2020 is ushering in transformational reforms.\\nPM ScHools for Rising India (PM SHRI) delivering quality teaching, and nurturing holistic and \\nwell-rounded individuals. \\nThe Skill India Mission: Trained 1.4 crore youth, upskilled and reskilled 54 lakh youth, and \\nestablished 3000 new ITIs. \\nNew institutions of higher learning: 7 IITs, 16 IIITs, 7 IIMs, 15 AIIMS and 390 universities have been \\nset up. \\nPM Mudra Yojana- Sanctioned 43 crore loans aggregating to 22.5 lakh crore.\\nFund of Funds, Start Up India, and Start Up Credit Guarantee schemes: Assisting youth and \\nmaking them ‘rozgardata’. \\nYouth in Sports-\\nThe highest ever medal tally in Asian Games and Asian Para Games in 2023.\\nChess prodigy Praggnanandhaa put up a stiff fight against the reigning World Champion \\nMagnus Carlsson in 2023.\\nIndia has over 80 chess grandmasters compared to little over 20 in 2010.\\nAnnadata (Farmer)\\nPM-KISAN SAMMAN Yojana: Direct financial assistance is provided to \\n11.8 crore farmers, including marginal and small farmers.\\nPM Fasal Bima Yojana: Crop insurance is given to 4 crore farmers.\\nElectronic National Agriculture Market: Integrated 1361 mandis, and providing services to 1.8 \\ncrore farmers with trading volume of Rs 3 lakh crore.\\nOther measures like farmer-centric policies, income support, coverage of risks through price and \\ninsurance support, promotion of technologies and innovations through start-ups.2017-1823.3Percent\\n2022-2337.0Rise in Female Labour\\nForce Participation RateSustainable Development\\nCommitment to meet ‘Net Zero’ by 2070\\nViability gap funding for wind energy\\nSetting up of coal gasification and liquefaction capacity\\nPhased mandatory blending of CNG, PNG and \\ncompressed biogas\\nFinancial assistance for procurement of biomass \\naggregation machinery\\nRooftop solarization-\\nUp to 300 units of free electricity per month for   1 \\ncrore households\\nAdoption of e-buses for public transport network\\nStrengthening e-vehicle ecosystem by supporting \\nmanufacturing and charging.\\nNew scheme of biomanufacturing and bio- foundry to be \\nlaunched to support environment friendly alternatives.STRATEGY FOR AMRIT KAAL\\nInfrastructure and Investment\\nImplementation of 3 major railway corridor programmes under PM Gati Shakti-to improve \\nlogistics efficiency and reduce cost.\\nPromotion of foreign investment via bilateral investment treaties to be negotiated.\\nExpansion of existing airports and comprehensive development of new airports under UDAN \\nscheme.\\nPromotion of urban transformation via Metro rail and NaMo Bharat.Achievements till now\\n10 crore LPG  connections \\nreleased under PMUY\\n36.9 crore LED  bulbs, 72.2 lakh \\nLED Tube lights\\n23.6 lakh  Energy efficient fans \\ndistributed under UJALA\\n1.3 crore  LED Street Lights \\ninstalled under SNLP\\nNon-Fossil Fuel installed energy \\ncapacity increased from 30.4% \\nin 2004 to 43.9% in 2023.\\nONLINE  |  DELHI  |  AHMEDABAD  |  BHOPAL  |  CHANDIGARH  |  GUWAHATI  |  HYDERABAD  |  JAIPUR  |  JODHPUR  |  LUCKNOW  |  PRAYAGRAJ  |  PUNE  |  RANCHI  |  SIKAR 6Increase in Capital ExpenditureAchievements till now\\nDoubling of FDI Inflow\\n0 01234\\nUSD Billion\\nFY18 FY19 FY20 FY21 FY22 FY23 FY24\\n(BE) (BE)FY252005-2014298596\\n2014-202336912Union Interim Budget 2024-25Inclusive Development\\nAspirational Districts Programme to assist States in faster development and employment \\ngeneration.\\nDevelopment of the East To make the eastern region and its people a powerful driver of India’s \\ngrowth.\\nAdditional 2 crore houses targeted for next 5 years under PM Awas Yojana (Grameen) \\nHousing for middle class scheme to be launched to promote middle class to buy/built their \\nown houses.\\nMore medical colleges will be set up by utilizing the existing hospital infrastructure.\\nCervical Cancer Vaccination for girls in age group of 9 to 14 years.\\nMaternal and child health care- Various schemes to be brought under one comprehensive \\nprogramme for synergy in implementation.\\nUpgradation of anganwadi centres under “Saksham Anganwadi and Poshan 2.0” will be \\nexpedited for improved nutrition delivery, early childhood care and development.   \\nU-WIN platform will be rolled out for managing immunization and intensified efforts of Mission \\nIndradhanush.\\nExtension of Ayushman Bharat scheme to all ASHA workers, Anganwadi Workers and Helpers. \\nAgriculture and Food Processing\\nPromoting private and public investment in Post-harvest activities like aggregation, modern \\nstorage, efficient supply chains, primary and secondary processing and marketing and \\nbranding.\\nApplication of Nano DAP on various crops will be expanded in all agro-climatic zones.  \\nAtmanirbhar Oilseeds Abhiyaan-Strategy to be formulated to achieve atmanirbharta for \\noilseeds.\\nComprehensive programme for dairy development to be formulated to control foot and \\nmouth disease and increase productivity of milch aimals.\\nStepping up the implementation of Pradhan Mantri Matsaya Sampada Yojana to enhance \\naquaculture productivity, double exports and generate more employment opportunities \\n5 Integrated Aquaparks to be set up.\\nPromoting Blue Economy 2.0: a scheme for restoration and adaptation measures, and coastal \\naquaculture and mariculture with integrated and multi-sectoral approach will be launchedAchievements till now\\nInclusive Development\\nin Aspirational Districts (112)\\nPer cent% of Women registered for \\nAnti-Natal Care within First \\nTrimesterNumber of enrolments under \\nPradhan Mantri Jeevan Jyoti \\nBima Yojana (PMJJBY) per lakh \\npopulation\\n20186889\\nOct-23\\nNumber\\n2018173713195\\nOct-23Increased allocation\\nfor PMAY\\n2023-24\\n(BE) (BE)7959080671\\n2024-25Crore\\nONLINE  |  DELHI  |  AHMEDABAD  |  BHOPAL  |  CHANDIGARH  |  GUWAHATI  |  HYDERABAD  |  JAIPUR  |  JODHPUR  |  LUCKNOW  |  PRAYAGRAJ  |  PUNE  |  RANCHI  |  SIKAR 7Union Interim Budget 2024-257\\nAchievements till now\\nRs. CroreIncreased allocation for \\nBlue RevolutionIncreased allocation for PM- Formalisation of \\nMicro Food Processing Enterprises scheme\\n2023-24\\n(BE)20252352\\n2024-25\\n(BE)\\nRs. Crore\\n2023-24\\n(BE)639880\\n2024-25\\n(BE)Union Interim Budget 2024-25Tourism\\nStates will be encouraged to take up comprehensive development of iconic tourist centres, branding \\nand marketing them at global scale.\\nA framework for rating of the centres based on quality of facilities and services will be \\nestablished.\\nLong-term interest free loans will be provided to States for financing such development on \\nmatching basis.\\nProjects for port connectivity, tourism infrastructure, and amenities will be taken up for islands, \\nincluding Lakshadweep.\\nONLINE  |  DELHI  |  AHMEDABAD  |  BHOPAL  |  CHANDIGARH  |  GUWAHATI  |  HYDERABAD  |  JAIPUR  |  JODHPUR  |  LUCKNOW  |  PRAYAGRAJ  |  PUNE  |  RANCHI  |  SIKAR 8Other Measures\\nTo enhance the target for Lakhpati Didi from 2 crore to 3 crore. \\nLakhpati Didi refers to women members of Self Help Groups (SHGs) who earn a sustainable \\nincome of at least Rs 1 lakh per year per household. \\nPromoting Research and Innovation\\nA corpus of rupees one lakh crore will be established with fifty-year interest free loan. \\nA new scheme will be launched for strengthening deep-tech technologies for defence \\npurposes and expediting ‘atmanirbharta’.\\nReforms in the States for ‘Viksit Bharat’: A provision of seventy-five thousand crore rupees as \\nfifty-year interest free loan is proposed to support milestone-linked reforms by the State \\nGovernments.  \\nAddressing Societal Challenges: A high-powered committee will be formed to address \\nchallenges due to fast population growth and demographic changes and achieve the goal of \\n‘Viksit Bharat’.Direct Tax\\nTax Collections more than trebled in \\nlast 10 years.\\nNumber of return filers swelled to 2.4 \\ntimes.\\nReduction in average processing time \\nof returns from 93 days in 2013-14 to \\n10 days in 2023-24.\\nNew Tax regime resulted in reduced \\nand rationalized tax rates\\nTaxpayers with income up to ₹7 lakh \\nhave no tax liability\\nThe threshold for presumptive \\ntaxation for retail businesses raised \\nfrom ₹2 crore to ₹3 crore.\\nCorporate tax rate decreased from \\n30% to 22% for existing companies \\nand 15% for new manufacturing \\ncompanies.\\nImprovement in tax-payer services \\nthrough\\nFaceless Assessment and Appeal\\nNew Form 26AS and prefilling of tax \\nreturns.PART B\\nONLINE  |  DELHI  |  AHMEDABAD  |  BHOPAL  |  CHANDIGARH  |  GUWAHATI  |  HYDERABAD  |  JAIPUR  |  JODHPUR  |  LUCKNOW  |  PRAYAGRAJ  |  PUNE  |  RANCHI  |  SIKAR 9DIRECT AND INDIRECT TAXES\\nGross Tax\\nReceips11.2\\n5.1\\n2022-23\\n(Actuals)2023-24\\n(Budget Estimates)2023-24\\n(Revised Estimates)2024-25\\n(Budget Estimates)5.1 5.0 4.96.1 6.06.6 6.711.111.6 11.7\\nDirect Tax\\nIndirect TaxOVERALL TREND IN TAX RECEIPTS:Indirect Tax\\nAverage monthly Gross GST collections \\ndoubled to 21.66 lakh crore in FY24.\\nIncrease in tax buoyancy of State \\nrevenue from 0.72 (2012-16) to 1.22 in \\nthe post-GST period (2017-23)\\nReduction in logistics cost and prices of \\nmost goods and services\\nDecline in import release time since \\n2019\\n47 per cent at Inland Container \\nDepots\\n28 per cent at Air Cargo \\ncomplexes\\n27 per cent at Sea Ports\\nSupply Chain Optimization by \\neliminating tax arbitrage and octroi.\\nUnion Interim Budget 2024-25Income\\nTax (19%)Borrowing and\\nOther Liabilities\\n(28%)\\nUnion Excise\\nDuties (5%)\\nCorporation\\ntax (17%)\\nGST and other\\ntaxes (18%)Customs (4%)Pensions (4%)\\nNon-Tax\\nReceipts (7%)\\nNon-Debt Capital\\nReceipts (1%)RUPEE COMES FROM RUPEE GOES TO\\nInterest \\nPayments\\n(20%)Other\\nExpenditure\\n(9%)\\nStates' share\\nof Taxes\\nand Duties\\n(20%)\\nCentrally\\nSponsored\\nSchemes\\n(8%)\\nSubsidies\\n(6%)Central Sector\\nSchemes\\n(16%)Finance\\nCommission\\nand other \\ntransfers\\n(8%)\\nDefence (8%)\\nTAX PROPOSALS\\nContinuity in taxation: Certain tax benefits to Start-ups and investments made by sovereign \\nwealth funds/pension funds and tax exemption of some IFSC units extended up to 31.03.2025.\\nWithdrawal of outstanding direct tax demand: -\\nUp to ₹25,000 pertaining up to FY10\\nUp to ₹10,000 for FY11-FY15\\nThis is expected to benefit approx. 1 crore taxpayers\\nRetention of same tax rates for direct and indirect taxes, import duties, corporate taxes.\\nONLINE  |  DELHI  |  AHMEDABAD  |  BHOPAL  |  CHANDIGARH  |  GUWAHATI  |  HYDERABAD  |  JAIPUR  |  JODHPUR  |  LUCKNOW  |  PRAYAGRAJ  |  PUNE  |  RANCHI  |  SIKAR 102022-23\\n(Actuals)2023-24\\n(Budget Estimates)2023-24\\n(Revised Estimates)2024-25\\n(Budget Estimates)01,00,000\\n10,00,00011,00,00012,00,000\\n-1,00,0002,00,0003,00,0004,00,0005,00,000Sources of Financing FD\\n(Excluding Market Borrowings)Market BorrowingsMarket BorrowingsSources of Deﬁcit Financing\\nShort Term\\nBorrowingSecurities Against\\nSmall SavingsState\\nProvident Funds\\nOther Receipts\\n(Internal Debt and Public Account)External DebtDraw Down of\\nCash BalanceIn   croreUnion Interim Budget 2024-25ONLINE  |  DELHI  |  AHMEDABAD  |  BHOPAL  |  CHANDIGARH  |  GUWAHATI  |  HYDERABAD  |  JAIPUR  |  JODHPUR  |  LUCKNOW  |  PRAYAGRAJ  |  PUNE  |  RANCHI  |  SIKAR 11\\n0.00.51.01.52.02.5\\nFY14\\nFY15\\nFY16\\nFY17\\nFY18\\nFY19\\nFY20\\nFY21\\nFY22\\nFY23\\nH1: FY24PDG fo tnec rePDeclining CAD as % of GDP\\n6.15.8\\n4.8\\n4.2 4.1\\n3.2\\n2017-182018-192019-202020-212021-222022-23Per centDeclining  Unemployment R ate \\n3.84.37.59.311.2\\n9.1\\n8.2\\n7.3\\n5.8\\n3.2FY14\\nFY15\\nFY16\\nFY17\\nFY18\\nFY19\\nFY20\\nFY21\\nFY22\\nSep-23secnavdA ssorG fo % a sAPN ssorGDeclining GNPAs as % of \\nGross Advances  \\n0400080001200016000\\nFY18FY19FY20FY21FY22FY23FY24CroreRising volume of Digital \\nTransactions\\n0.91.01.0\\n0.91.21.51.7\\n0.60.91.21.51.8\\nFY18\\nFY19\\nFY20\\nFY21\\nFY22\\nFY23\\nFY24erorC hkaL ₹Rise in average  monthly g ross \\nGST collection s\\n9.4\\n5.8\\n4.94.5\\n3.63.44.86.2\\n5.56.7\\n5.5FY14\\nFY15\\nFY16\\nFY17\\nFY18\\nFY19\\nFY20\\nFY21\\nFY22\\nFY23\\nFY24*Per centFall in Headline Inflati onPERFORMANCE OF INDIAN ECONOMYUnion Interim Budget 2024-25ONLINE  |  DELHI  |  AHMEDABAD  |  BHOPAL  |  CHANDIGARH  |  GUWAHATI  |  HYDERABAD  |  JAIPUR  |  JODHPUR  |  LUCKNOW  |  PRAYAGRAJ  |  PUNE  |  RANCHI  |  SIKAR 12\\nAppropriation\\nBillIt gives power to the government to withdraw funds from the Consolidated \\nFund of India for meeting the expenditure during the financial year. \\nOctroiIt is tax levied by a local municipal authority, on certain categories of \\ngoods as they enter the area.\\nSovereign\\nWealth FundsThey are state-owned investment pool that manages a country's financial \\nreserves, investing in various assets such as stocks, bonds, real estate, and \\nother instruments to generate long-term wealth and achieve economic \\nobjectives.\\nCustom Duty It is a tax imposed on imports and exports of goods.\\nTax arbitrageIt is strategically exploiting differences in tax regulations or rates between \\njurisdictions to minimise tax liability or maximise financial gains.\\nDirect taxesTax payments made directly to the government by individuals, including \\nincome tax, poll tax, land tax, and personal property tax.\\nIndirect TaxesTaxes imposed on goods and services, collected by intermediaries such as \\nmanufacturers or retailers who pass it on to the final consumer. Examples \\ninclude Goods and Services Tax (GST), excise duty, and customs duty.Union Interim Budget 2024-25Revenue\\nreceiptsIt refers to the money the government receives without incurring debts or \\nlosing valuable assets, covering items like taxes, profits from public enter-\\nprises, and fees for services.\\nCorporate taxIt is a direct tax imposed by governments on a company's profits, \\ncalculated as a percentage of its net income, to generate revenue for public \\nservices and infrastructure.\\nTax buoyancyIt measures how tax revenues respond to changes in economic output, \\nreflecting an economy's attributes, effective collections, and the impact of \\npolicy measures over time.\\nViability gap\\nfundingIt provides grants to back economically justified yet financially nonviable \\nprojects.\\nPresumptive\\ntaxationIt is a simplified method allowing eligible businesses to declare a pre-\\nscribed percentage of turnover as income, streamlining tax compliance by \\nminimising the need for detailed accounting records.\\nInflation It is the rate of increase in prices over or how much more expensive a set of \\ngoods and services has become over a given time period.\\nCapital\\nexpenditureIt is the government's investment in long-term development, including \\nmachinery, buildings, and education, as well as acquiring assets like land \\nand profitable investments for future returns.\\nBudget\\nestimatesThey are financial projections presented by the Union finance minister, \\noutlining allocations for different sectors in the annual budget. They signify \\nthe government's intended expenditure but are not exact figures or binding \\ncommitment.\\nDirect\\nBenefit\\nTransferThe aim of DBT is to transfer the benefits and subsidies of various social \\nwelfare schemes directly in the bank account of the beneficiary on time. \\nThis eliminates the intermediary body, prevent any frauds and brings effi-\\nciency, effectiveness and transparency.\\nLabour Force\\nParticipation\\nrateIt is a measure of the proportion of a country's working-age population \\nthat engages actively in the labour market, either by working or looking for \\nwork.GLOSSARYIMPORTANT CONSTITUTIONAL PROVISIONS RELATED TO BUDGET\\nARTICLE PROVISION\\nArticle 109 Special procedure in respect of Money Bills\\nArticle 110 Definition of Money Bills\\nArticle 112 Annual Financial Statement\\nArticle 113 Procedure in Parliament with respect to Estimates.\\nArticle 114 Appropriation Bills\\nArticle 115 Supplementary, Additional or Excess Grants.\\nArticle 116 Vote on account, Vote of credit and Exceptional Grant\\nArticle 117 Special provisions as to Financial Bills\\nArticle 150 Form of accounts of the Union and of the States\\nArticle 151 Audit reports\\nArticle 265 Taxes not to be imposed except by authority of law\\nConsolidated Funds and Public Accounts of India and of the States Article 266\\nContingency Fund Article 267\\nGrants from the Union to certain States Article 275\\nFinance Commission Article 280\\nRecommendations of the Finance Commission Article 281\\nBorrowing by the Government of India Article 292\\nUnion Interim Budget 2024-25\""
      ]
     },
     "execution_count": 34,
     "metadata": {},
     "output_type": "execute_result"
    }
   ],
   "source": [
    "raw_text"
   ]
  },
  {
   "cell_type": "code",
   "execution_count": 35,
   "id": "047b86fa",
   "metadata": {},
   "outputs": [],
   "source": [
    "cassio.init(token=ASTRA_DB_APPLICATION_TOKEN, database_id=ASTRA_DB_ID)"
   ]
  },
  {
   "cell_type": "code",
   "execution_count": 36,
   "id": "fa7d1613",
   "metadata": {},
   "outputs": [],
   "source": [
    "llm = OpenAI(openai_api_key=OPENAI_API_KEY)\n",
    "embedding = OpenAIEmbeddings(openai_api_key=OPENAI_API_KEY)"
   ]
  },
  {
   "cell_type": "code",
   "execution_count": null,
   "id": "c94493af",
   "metadata": {},
   "outputs": [],
   "source": [
    "astra_vector_store = Cassandra(\n",
    "    embedding=embedding,\n",
    "    table_name=\"qa_mini_demo_1\",\n",
    "    session=None,\n",
    "    keyspace=None,\n",
    ")"
   ]
  },
  {
   "cell_type": "code",
   "execution_count": 28,
   "id": "c4fa8940",
   "metadata": {},
   "outputs": [],
   "source": [
    "from langchain.text_splitter import CharacterTextSplitter\n",
    "# We need to split the text using Character Text Split such that it sshould not increse token size\n",
    "text_splitter = CharacterTextSplitter(\n",
    "    separator = \"\\n\",\n",
    "    chunk_size = 800,\n",
    "    chunk_overlap  = 200,\n",
    "    length_function = len,\n",
    ")\n",
    "texts = text_splitter.split_text(raw_text)"
   ]
  },
  {
   "cell_type": "code",
   "execution_count": 29,
   "id": "77775c5e",
   "metadata": {
    "scrolled": false
   },
   "outputs": [
    {
     "data": {
      "text/plain": [
       "['WHAT IS A BUDGET?\\nAs per Article 112 of the Constitution, Budget is known as Annual Financial Statement of the \\nGovernment.\\nThe term ‘Budget’ is not mentioned in the Constitution.\\nIt is the statement of estimated receipts and expenditure of the Government in a financial year.\\nUnion Budget is classified into Revenue Budget(including Tax and Non-Tax revenue receipts and \\nexpenditure of the government) and Capital Budget (including capital receipts and payments of \\nthe government).\\nPreparation of budget:\\nDepartment of Economic Affairs, Ministry of Finance is the nodal body responsible for \\npreparing of the Budget.\\nBudget for a year is prepared by the Budget Division of Department of Economic Affairs.\\nIt is prepared broadly on the basis of detailed estimates of expenditure and receipts',\n",
       " 'preparing of the Budget.\\nBudget for a year is prepared by the Budget Division of Department of Economic Affairs.\\nIt is prepared broadly on the basis of detailed estimates of expenditure and receipts \\nreceived from various Departments/Ministries and its own subordinate estimating \\nauthorities.\\nBudget is prepared on Cash Basis (i.e. whatever is expected to be actually received or paid \\nunder proper sanction during a financial year).\\nPresentation of budget:\\nPresident in every financial year cause to be laid before both the                                                                                        \\nHouses of Parliament the annual financial statement.',\n",
       " 'Houses of Parliament the annual financial statement.\\nIn the Parliament, the budget is presented by the Union Finance                                                                                  \\nMinister, in two parts consisting of Part A and B.\\nPart A: It is the macroeconomic part of the budget where various                                                        \\nschemes and priorities of government are announced, and                                                                 \\nallocations are made to several sectors.Part B: It deals with Finance Bill, which contains taxation proposals such as income tax \\nrevisions and indirect taxes.\\nMajor budget documents: Apart from the Finance Minister’s Budget Speech, following documents \\nare presented to Parliament:',\n",
       " 'revisions and indirect taxes.\\nMajor budget documents: Apart from the Finance Minister’s Budget Speech, following documents \\nare presented to Parliament:\\nAnnual Financial Statement (under Article 112) ,\\nDemands for Grants (under Article 113),\\nFinance Bill (under article 110)\\nFiscal Policy Statements mandated under FRBM Act -\\nMacro-Economic Framework Statement.\\nMedium-Term Fiscal Policy cum Fiscal Policy Strategy Statement.\\nOther explanatory documents are also presented like:\\nExpenditure Budget\\nReceipt Budget\\nExpenditure Profile\\nBudget at a Glance\\nKey Features of Budget 2024-25\\nImplementation of Budget Announcements, 2023-24\\nONLINE  |  DELHI  |  AHMEDABAD  |  BHOPAL  |  CHANDIGARH  |  GUWAHATI  |  HYDERABAD  |  JAIPUR  |  JODHPUR  |  LUCKNOW  |  PRAYAGRAJ  |  PUNE  |  RANCHI  |  SIKAR 1',\n",
       " 'ONLINE  |  DELHI  |  AHMEDABAD  |  BHOPAL  |  CHANDIGARH  |  GUWAHATI  |  HYDERABAD  |  JAIPUR  |  JODHPUR  |  LUCKNOW  |  PRAYAGRAJ  |  PUNE  |  RANCHI  |  SIKAR 1\\n2024-25UNION  INTERIMSUMMARY OFAs per Article 112 of the Constitution, Budget is known as Annual Financial Statement of the \\nGovernment.\\nThe term ‘Budget’ is not mentioned in the Constitution.\\nIt is the statement of estimated receipts and expenditure of the Government in a financial year.\\nUnion Budget is classified into Revenue Budget(including Tax and Non-Tax revenue receipts and \\nexpenditure of the government) and Capital Budget (including capital receipts and payments of \\nthe government).\\nPreparation of budget:\\nDepartment of Economic Affairs, Ministry of Finance is the nodal body responsible for \\npreparing of the Budget.',\n",
       " 'the government).\\nPreparation of budget:\\nDepartment of Economic Affairs, Ministry of Finance is the nodal body responsible for \\npreparing of the Budget.\\nBudget for a year is prepared by the Budget Division of Department of Economic Affairs.\\nIt is prepared broadly on the basis of detailed estimates of expenditure and receipts \\nreceived from various Departments/Ministries and its own subordinate estimating \\nauthorities.\\nBudget is prepared on Cash Basis (i.e. whatever is expected to be actually received or paid \\nunder proper sanction during a financial year).\\nPresentation of budget:\\nPresident in every financial year cause to be laid before both the                                                                                        \\nHouses of Parliament the annual financial statement.',\n",
       " 'Houses of Parliament the annual financial statement.\\nIn the Parliament, the budget is presented by the Union Finance                                                                                  \\nMinister, in two parts consisting of Part A and B.\\nPart A: It is the macroeconomic part of the budget where various                                                        \\nschemes and priorities of government are announced, and                                                                 \\nallocations are made to several sectors.Part B: It deals with Finance Bill, which contains taxation proposals such as income tax \\nrevisions and indirect taxes.\\nMajor budget documents: Apart from the Finance Minister’s Budget Speech, following documents \\nare presented to Parliament:',\n",
       " 'revisions and indirect taxes.\\nMajor budget documents: Apart from the Finance Minister’s Budget Speech, following documents \\nare presented to Parliament:\\nAnnual Financial Statement (under Article 112) ,\\nDemands for Grants (under Article 113),\\nFinance Bill (under article 110)\\nFiscal Policy Statements mandated under FRBM Act -\\nMacro-Economic Framework Statement.\\nMedium-Term Fiscal Policy cum Fiscal Policy Strategy Statement.\\nOther explanatory documents are also presented like:\\nExpenditure Budget\\nReceipt Budget\\nExpenditure Profile\\nBudget at a Glance\\nKey Features of Budget 2024-25\\nImplementation of Budget Announcements, 2023-24Union Interim Budget 2024-25',\n",
       " 'Expenditure Budget\\nReceipt Budget\\nExpenditure Profile\\nBudget at a Glance\\nKey Features of Budget 2024-25\\nImplementation of Budget Announcements, 2023-24Union Interim Budget 2024-25\\nONLINE  |  DELHI  |  AHMEDABAD  |  BHOPAL  |  CHANDIGARH  |  GUWAHATI  |  HYDERABAD  |  JAIPUR  |  JODHPUR  |  LUCKNOW  |  PRAYAGRAJ  |  PUNE  |  RANCHI  |  SIKAR 2HISTORY OF BUDGET\\nPre Independence:\\nBudget was first introduced on 7th \\nApril, 1860, two years after the \\ntransfer of Indian administration from  \\nEast-India Company to British Crown.\\nThe first Finance Member, who \\npresented the Budget, was James \\nWilson.\\nMr Liaquat Ali Khan, member of the \\ninterim Government presented the \\nbudget of 1947-48.Post-Independence:\\nIndia’s first Finance Minister Shri R.K. \\nShanmukham Chetty, presented the',\n",
       " \"Wilson.\\nMr Liaquat Ali Khan, member of the \\ninterim Government presented the \\nbudget of 1947-48.Post-Independence:\\nIndia’s first Finance Minister Shri R.K. \\nShanmukham Chetty, presented the \\nfirst Budget on 26th November, 1947.\\nSince then, the process of budget \\nhas evolved and emerged as a \\ncrucial tool for Public Finance \\nManagement and reflect the \\nstrength of our democratic \\nprocesses in shaping our economy.\\nBUDGET\\nBUDGET PROCESS\\nINTERIM BUDGET 2024-25\\nGeneral Discussuion \\non Budget in both the \\nHousesDetalied discussion and \\nvoting on Demand for \\nGrants in Lok sabha \\nBudget is\\npresentedStanding Committees \\nscrutinise individual ministers' \\nDemand for  GrantsAppropriation and \\nFinance Bill passed\",\n",
       " \"voting on Demand for \\nGrants in Lok sabha \\nBudget is\\npresentedStanding Committees \\nscrutinise individual ministers' \\nDemand for  GrantsAppropriation and \\nFinance Bill passed\\nSince 2024 is an election year, instead of a normal budget, an interim budget will be presented \\nthis year.\\nInterim budget: It is a short-term financial plan that covers government expenses until the \\nelections.\\nUnlike a normal budget, which covers every aspect of government finances, including revenues, \\nexpenditures, allocations, and policy statements, interim budget only outlines the government’s \\nanticipated revenues and expenses until the new government is formed.\\nAs part of Interim budget, the Parliament passes a vote-on-account.\",\n",
       " 'anticipated revenues and expenses until the new government is formed.\\nAs part of Interim budget, the Parliament passes a vote-on-account.\\nVote-on-account : According to Article 116 of the Constitution, a vote-on-account represents an \\nadvance payment to the government from the Consolidated Fund of India, for meeting immediate \\nexpenditure requirements.\\nUnion Interim Budget 2024-25THE ENTIRE PROCESS IS COMPLETED IN THE FOLLOWING STEPS-\\nONLINE  |  DELHI  |  AHMEDABAD  |  BHOPAL  |  CHANDIGARH  |  GUWAHATI  |  HYDERABAD  |  JAIPUR  |  JODHPUR  |  LUCKNOW  |  PRAYAGRAJ  |  PUNE  |  RANCHI  |  SIKAR 3Vision of Budget: Viksit Bharat by 2047 “Prosperous \\nBharat in harmony with nature, modern infrastructure \\nand opportunities for all”\\nDevelopment Mantra of Budget: Sabka Saath, Sabka',\n",
       " 'Bharat in harmony with nature, modern infrastructure \\nand opportunities for all”\\nDevelopment Mantra of Budget: Sabka Saath, Sabka \\nVikas, and Sabka Vishwas’ whole of nation’ approach of \\n‘Sabka Prayas’.\\nPhilosophy is to cover all elements of inclusivity.\\nSocial inclusivity- through coverage of all strata \\nof the society,\\nGeographical inclusivity- through development of \\nall regions of the country.\\nONLINE  |  DELHI  |  AHMEDABAD  |  BHOPAL  |  CHANDIGARH  |  GUWAHATI  |  HYDERABAD  |  JAIPUR  |  JODHPUR  |  LUCKNOW  |  PRAYAGRAJ  |  PUNE  |  RANCHI  |  SIKAR 4BUDGET 2024-25\\nFOCUS AREAS \\nKEY ACHIEVEMENTS IN FOCUS AREAS:Sabka Saath,\\nSabka Vikas\\nSabka Saath,\\nSabka Vikas,\\nSabka Vishwas\\nDeveloped India\\n@2047PART A\\n‘Garib’\\n(Poor)Mahilayen’\\n(Women)‘Yuva’\\n(Youth or\\nAmrit\\nPeedhi)‘Annadata’\\n(Farmer)',\n",
       " 'Sabka Vikas\\nSabka Saath,\\nSabka Vikas,\\nSabka Vishwas\\nDeveloped India\\n@2047PART A\\n‘Garib’\\n(Poor)Mahilayen’\\n(Women)‘Yuva’\\n(Youth or\\nAmrit\\nPeedhi)‘Annadata’\\n(Farmer)\\nGarib (Poor)\\nAlleviation of poverty: 25 crore people got freedom from multi-dimensional poverty.\\nDirect Benefit Transfer: 34 lakh crore DBT using PM-Jan Dhan accounts has led to savings of \\n2.7 lakh crore for the Government. \\nPM-SVANidhi \\nCredit assistance provided to 78 lakh street vendors. \\n2.3 lakh have received credit for the third time. \\nPM-JANMAN Yojana: Helped in reaching out to the particularly vulnerable tribal groups. \\nPM-Vishwakarma Yojana: Provided end-to-end support to artisans and craftspeople \\nengaged in 18 trades. Comprehensive\\ndevelopment of all\\nTrinity of \\ndemography, \\ndemocracy and \\ndiversity, backed',\n",
       " \"PM-Vishwakarma Yojana: Provided end-to-end support to artisans and craftspeople \\nengaged in 18 trades. Comprehensive\\ndevelopment of all\\nTrinity of \\ndemography, \\ndemocracy and \\ndiversity, backed \\nby 'Sabka Prayas'Union Interim Budget 2024-25ONLINE  |  DELHI  |  AHMEDABAD  |  BHOPAL  |  CHANDIGARH  |  GUWAHATI  |  HYDERABAD  |  JAIPUR  |  JODHPUR  |  LUCKNOW  |  PRAYAGRAJ  |  PUNE  |  RANCHI  |  SIKAR 5Mahilayen (Women)\\nThirty crore Mudra Yojana loans have been given to \\nwomen entrepreneurs.\\nFemale enrolment in higher education has gone up by \\ntwenty-eight per cent in ten years. \\nIn STEM courses, girls and women constitute forty-three \\nper cent of enrolment - one of the highest in the world.\\nEnhancement of Women’s dignity by\\nMaking ‘Triple Talaq’ illegal\",\n",
       " 'In STEM courses, girls and women constitute forty-three \\nper cent of enrolment - one of the highest in the world.\\nEnhancement of Women’s dignity by\\nMaking ‘Triple Talaq’ illegal\\nReservation of one-third seats for women in the Lok Sabha \\nand State legislative assemblies\\nGiving over 70% houses under PM Awas Yojana in rural \\nareas to women as sole or joint owners.Union Interim Budget 2024-25Yuva (Youth or Amrit Peedhi)\\nThe National Education Policy 2020 is ushering in transformational reforms.\\nPM ScHools for Rising India (PM SHRI) delivering quality teaching, and nurturing holistic and \\nwell-rounded individuals. \\nThe Skill India Mission: Trained 1.4 crore youth, upskilled and reskilled 54 lakh youth, and \\nestablished 3000 new ITIs.',\n",
       " 'well-rounded individuals. \\nThe Skill India Mission: Trained 1.4 crore youth, upskilled and reskilled 54 lakh youth, and \\nestablished 3000 new ITIs. \\nNew institutions of higher learning: 7 IITs, 16 IIITs, 7 IIMs, 15 AIIMS and 390 universities have been \\nset up. \\nPM Mudra Yojana- Sanctioned 43 crore loans aggregating to 22.5 lakh crore.\\nFund of Funds, Start Up India, and Start Up Credit Guarantee schemes: Assisting youth and \\nmaking them ‘rozgardata’. \\nYouth in Sports-\\nThe highest ever medal tally in Asian Games and Asian Para Games in 2023.\\nChess prodigy Praggnanandhaa put up a stiff fight against the reigning World Champion \\nMagnus Carlsson in 2023.\\nIndia has over 80 chess grandmasters compared to little over 20 in 2010.\\nAnnadata (Farmer)',\n",
       " 'Magnus Carlsson in 2023.\\nIndia has over 80 chess grandmasters compared to little over 20 in 2010.\\nAnnadata (Farmer)\\nPM-KISAN SAMMAN Yojana: Direct financial assistance is provided to \\n11.8 crore farmers, including marginal and small farmers.\\nPM Fasal Bima Yojana: Crop insurance is given to 4 crore farmers.\\nElectronic National Agriculture Market: Integrated 1361 mandis, and providing services to 1.8 \\ncrore farmers with trading volume of Rs 3 lakh crore.\\nOther measures like farmer-centric policies, income support, coverage of risks through price and \\ninsurance support, promotion of technologies and innovations through start-ups.2017-1823.3Percent\\n2022-2337.0Rise in Female Labour\\nForce Participation RateSustainable Development\\nCommitment to meet ‘Net Zero’ by 2070',\n",
       " '2022-2337.0Rise in Female Labour\\nForce Participation RateSustainable Development\\nCommitment to meet ‘Net Zero’ by 2070\\nViability gap funding for wind energy\\nSetting up of coal gasification and liquefaction capacity\\nPhased mandatory blending of CNG, PNG and \\ncompressed biogas\\nFinancial assistance for procurement of biomass \\naggregation machinery\\nRooftop solarization-\\nUp to 300 units of free electricity per month for   1 \\ncrore households\\nAdoption of e-buses for public transport network\\nStrengthening e-vehicle ecosystem by supporting \\nmanufacturing and charging.\\nNew scheme of biomanufacturing and bio- foundry to be \\nlaunched to support environment friendly alternatives.STRATEGY FOR AMRIT KAAL\\nInfrastructure and Investment',\n",
       " 'manufacturing and charging.\\nNew scheme of biomanufacturing and bio- foundry to be \\nlaunched to support environment friendly alternatives.STRATEGY FOR AMRIT KAAL\\nInfrastructure and Investment\\nImplementation of 3 major railway corridor programmes under PM Gati Shakti-to improve \\nlogistics efficiency and reduce cost.\\nPromotion of foreign investment via bilateral investment treaties to be negotiated.\\nExpansion of existing airports and comprehensive development of new airports under UDAN \\nscheme.\\nPromotion of urban transformation via Metro rail and NaMo Bharat.Achievements till now\\n10 crore LPG  connections \\nreleased under PMUY\\n36.9 crore LED  bulbs, 72.2 lakh \\nLED Tube lights\\n23.6 lakh  Energy efficient fans \\ndistributed under UJALA\\n1.3 crore  LED Street Lights \\ninstalled under SNLP',\n",
       " 'released under PMUY\\n36.9 crore LED  bulbs, 72.2 lakh \\nLED Tube lights\\n23.6 lakh  Energy efficient fans \\ndistributed under UJALA\\n1.3 crore  LED Street Lights \\ninstalled under SNLP\\nNon-Fossil Fuel installed energy \\ncapacity increased from 30.4% \\nin 2004 to 43.9% in 2023.\\nONLINE  |  DELHI  |  AHMEDABAD  |  BHOPAL  |  CHANDIGARH  |  GUWAHATI  |  HYDERABAD  |  JAIPUR  |  JODHPUR  |  LUCKNOW  |  PRAYAGRAJ  |  PUNE  |  RANCHI  |  SIKAR 6Increase in Capital ExpenditureAchievements till now\\nDoubling of FDI Inflow\\n0 01234\\nUSD Billion\\nFY18 FY19 FY20 FY21 FY22 FY23 FY24\\n(BE) (BE)FY252005-2014298596\\n2014-202336912Union Interim Budget 2024-25Inclusive Development\\nAspirational Districts Programme to assist States in faster development and employment \\ngeneration.',\n",
       " '(BE) (BE)FY252005-2014298596\\n2014-202336912Union Interim Budget 2024-25Inclusive Development\\nAspirational Districts Programme to assist States in faster development and employment \\ngeneration.\\nDevelopment of the East To make the eastern region and its people a powerful driver of India’s \\ngrowth.\\nAdditional 2 crore houses targeted for next 5 years under PM Awas Yojana (Grameen) \\nHousing for middle class scheme to be launched to promote middle class to buy/built their \\nown houses.\\nMore medical colleges will be set up by utilizing the existing hospital infrastructure.\\nCervical Cancer Vaccination for girls in age group of 9 to 14 years.\\nMaternal and child health care- Various schemes to be brought under one comprehensive \\nprogramme for synergy in implementation.',\n",
       " 'Cervical Cancer Vaccination for girls in age group of 9 to 14 years.\\nMaternal and child health care- Various schemes to be brought under one comprehensive \\nprogramme for synergy in implementation.\\nUpgradation of anganwadi centres under “Saksham Anganwadi and Poshan 2.0” will be \\nexpedited for improved nutrition delivery, early childhood care and development.   \\nU-WIN platform will be rolled out for managing immunization and intensified efforts of Mission \\nIndradhanush.\\nExtension of Ayushman Bharat scheme to all ASHA workers, Anganwadi Workers and Helpers. \\nAgriculture and Food Processing\\nPromoting private and public investment in Post-harvest activities like aggregation, modern \\nstorage, efficient supply chains, primary and secondary processing and marketing and \\nbranding.',\n",
       " 'Promoting private and public investment in Post-harvest activities like aggregation, modern \\nstorage, efficient supply chains, primary and secondary processing and marketing and \\nbranding.\\nApplication of Nano DAP on various crops will be expanded in all agro-climatic zones.  \\nAtmanirbhar Oilseeds Abhiyaan-Strategy to be formulated to achieve atmanirbharta for \\noilseeds.\\nComprehensive programme for dairy development to be formulated to control foot and \\nmouth disease and increase productivity of milch aimals.\\nStepping up the implementation of Pradhan Mantri Matsaya Sampada Yojana to enhance \\naquaculture productivity, double exports and generate more employment opportunities \\n5 Integrated Aquaparks to be set up.',\n",
       " 'aquaculture productivity, double exports and generate more employment opportunities \\n5 Integrated Aquaparks to be set up.\\nPromoting Blue Economy 2.0: a scheme for restoration and adaptation measures, and coastal \\naquaculture and mariculture with integrated and multi-sectoral approach will be launchedAchievements till now\\nInclusive Development\\nin Aspirational Districts (112)\\nPer cent% of Women registered for \\nAnti-Natal Care within First \\nTrimesterNumber of enrolments under \\nPradhan Mantri Jeevan Jyoti \\nBima Yojana (PMJJBY) per lakh \\npopulation\\n20186889\\nOct-23\\nNumber\\n2018173713195\\nOct-23Increased allocation\\nfor PMAY\\n2023-24\\n(BE) (BE)7959080671\\n2024-25Crore',\n",
       " 'Pradhan Mantri Jeevan Jyoti \\nBima Yojana (PMJJBY) per lakh \\npopulation\\n20186889\\nOct-23\\nNumber\\n2018173713195\\nOct-23Increased allocation\\nfor PMAY\\n2023-24\\n(BE) (BE)7959080671\\n2024-25Crore\\nONLINE  |  DELHI  |  AHMEDABAD  |  BHOPAL  |  CHANDIGARH  |  GUWAHATI  |  HYDERABAD  |  JAIPUR  |  JODHPUR  |  LUCKNOW  |  PRAYAGRAJ  |  PUNE  |  RANCHI  |  SIKAR 7Union Interim Budget 2024-257\\nAchievements till now\\nRs. CroreIncreased allocation for \\nBlue RevolutionIncreased allocation for PM- Formalisation of \\nMicro Food Processing Enterprises scheme\\n2023-24\\n(BE)20252352\\n2024-25\\n(BE)\\nRs. Crore\\n2023-24\\n(BE)639880\\n2024-25\\n(BE)Union Interim Budget 2024-25Tourism\\nStates will be encouraged to take up comprehensive development of iconic tourist centres, branding \\nand marketing them at global scale.',\n",
       " '(BE)639880\\n2024-25\\n(BE)Union Interim Budget 2024-25Tourism\\nStates will be encouraged to take up comprehensive development of iconic tourist centres, branding \\nand marketing them at global scale.\\nA framework for rating of the centres based on quality of facilities and services will be \\nestablished.\\nLong-term interest free loans will be provided to States for financing such development on \\nmatching basis.\\nProjects for port connectivity, tourism infrastructure, and amenities will be taken up for islands, \\nincluding Lakshadweep.\\nONLINE  |  DELHI  |  AHMEDABAD  |  BHOPAL  |  CHANDIGARH  |  GUWAHATI  |  HYDERABAD  |  JAIPUR  |  JODHPUR  |  LUCKNOW  |  PRAYAGRAJ  |  PUNE  |  RANCHI  |  SIKAR 8Other Measures\\nTo enhance the target for Lakhpati Didi from 2 crore to 3 crore.',\n",
       " 'To enhance the target for Lakhpati Didi from 2 crore to 3 crore. \\nLakhpati Didi refers to women members of Self Help Groups (SHGs) who earn a sustainable \\nincome of at least Rs 1 lakh per year per household. \\nPromoting Research and Innovation\\nA corpus of rupees one lakh crore will be established with fifty-year interest free loan. \\nA new scheme will be launched for strengthening deep-tech technologies for defence \\npurposes and expediting ‘atmanirbharta’.\\nReforms in the States for ‘Viksit Bharat’: A provision of seventy-five thousand crore rupees as \\nfifty-year interest free loan is proposed to support milestone-linked reforms by the State \\nGovernments.  \\nAddressing Societal Challenges: A high-powered committee will be formed to address',\n",
       " 'fifty-year interest free loan is proposed to support milestone-linked reforms by the State \\nGovernments.  \\nAddressing Societal Challenges: A high-powered committee will be formed to address \\nchallenges due to fast population growth and demographic changes and achieve the goal of \\n‘Viksit Bharat’.Direct Tax\\nTax Collections more than trebled in \\nlast 10 years.\\nNumber of return filers swelled to 2.4 \\ntimes.\\nReduction in average processing time \\nof returns from 93 days in 2013-14 to \\n10 days in 2023-24.\\nNew Tax regime resulted in reduced \\nand rationalized tax rates\\nTaxpayers with income up to ₹7 lakh \\nhave no tax liability\\nThe threshold for presumptive \\ntaxation for retail businesses raised \\nfrom ₹2 crore to ₹3 crore.\\nCorporate tax rate decreased from \\n30% to 22% for existing companies',\n",
       " 'have no tax liability\\nThe threshold for presumptive \\ntaxation for retail businesses raised \\nfrom ₹2 crore to ₹3 crore.\\nCorporate tax rate decreased from \\n30% to 22% for existing companies \\nand 15% for new manufacturing \\ncompanies.\\nImprovement in tax-payer services \\nthrough\\nFaceless Assessment and Appeal\\nNew Form 26AS and prefilling of tax \\nreturns.PART B\\nONLINE  |  DELHI  |  AHMEDABAD  |  BHOPAL  |  CHANDIGARH  |  GUWAHATI  |  HYDERABAD  |  JAIPUR  |  JODHPUR  |  LUCKNOW  |  PRAYAGRAJ  |  PUNE  |  RANCHI  |  SIKAR 9DIRECT AND INDIRECT TAXES\\nGross Tax\\nReceips11.2\\n5.1\\n2022-23\\n(Actuals)2023-24\\n(Budget Estimates)2023-24\\n(Revised Estimates)2024-25\\n(Budget Estimates)5.1 5.0 4.96.1 6.06.6 6.711.111.6 11.7\\nDirect Tax\\nIndirect TaxOVERALL TREND IN TAX RECEIPTS:Indirect Tax',\n",
       " '2022-23\\n(Actuals)2023-24\\n(Budget Estimates)2023-24\\n(Revised Estimates)2024-25\\n(Budget Estimates)5.1 5.0 4.96.1 6.06.6 6.711.111.6 11.7\\nDirect Tax\\nIndirect TaxOVERALL TREND IN TAX RECEIPTS:Indirect Tax\\nAverage monthly Gross GST collections \\ndoubled to 21.66 lakh crore in FY24.\\nIncrease in tax buoyancy of State \\nrevenue from 0.72 (2012-16) to 1.22 in \\nthe post-GST period (2017-23)\\nReduction in logistics cost and prices of \\nmost goods and services\\nDecline in import release time since \\n2019\\n47 per cent at Inland Container \\nDepots\\n28 per cent at Air Cargo \\ncomplexes\\n27 per cent at Sea Ports\\nSupply Chain Optimization by \\neliminating tax arbitrage and octroi.\\nUnion Interim Budget 2024-25Income\\nTax (19%)Borrowing and\\nOther Liabilities\\n(28%)\\nUnion Excise\\nDuties (5%)\\nCorporation\\ntax (17%)',\n",
       " \"Supply Chain Optimization by \\neliminating tax arbitrage and octroi.\\nUnion Interim Budget 2024-25Income\\nTax (19%)Borrowing and\\nOther Liabilities\\n(28%)\\nUnion Excise\\nDuties (5%)\\nCorporation\\ntax (17%)\\nGST and other\\ntaxes (18%)Customs (4%)Pensions (4%)\\nNon-Tax\\nReceipts (7%)\\nNon-Debt Capital\\nReceipts (1%)RUPEE COMES FROM RUPEE GOES TO\\nInterest \\nPayments\\n(20%)Other\\nExpenditure\\n(9%)\\nStates' share\\nof Taxes\\nand Duties\\n(20%)\\nCentrally\\nSponsored\\nSchemes\\n(8%)\\nSubsidies\\n(6%)Central Sector\\nSchemes\\n(16%)Finance\\nCommission\\nand other \\ntransfers\\n(8%)\\nDefence (8%)\\nTAX PROPOSALS\\nContinuity in taxation: Certain tax benefits to Start-ups and investments made by sovereign \\nwealth funds/pension funds and tax exemption of some IFSC units extended up to 31.03.2025.\\nWithdrawal of outstanding direct tax demand: -\",\n",
       " 'wealth funds/pension funds and tax exemption of some IFSC units extended up to 31.03.2025.\\nWithdrawal of outstanding direct tax demand: -\\nUp to ₹25,000 pertaining up to FY10\\nUp to ₹10,000 for FY11-FY15\\nThis is expected to benefit approx. 1 crore taxpayers\\nRetention of same tax rates for direct and indirect taxes, import duties, corporate taxes.\\nONLINE  |  DELHI  |  AHMEDABAD  |  BHOPAL  |  CHANDIGARH  |  GUWAHATI  |  HYDERABAD  |  JAIPUR  |  JODHPUR  |  LUCKNOW  |  PRAYAGRAJ  |  PUNE  |  RANCHI  |  SIKAR 102022-23\\n(Actuals)2023-24\\n(Budget Estimates)2023-24\\n(Revised Estimates)2024-25\\n(Budget Estimates)01,00,000\\n10,00,00011,00,00012,00,000\\n-1,00,0002,00,0003,00,0004,00,0005,00,000Sources of Financing FD',\n",
       " '(Actuals)2023-24\\n(Budget Estimates)2023-24\\n(Revised Estimates)2024-25\\n(Budget Estimates)01,00,000\\n10,00,00011,00,00012,00,000\\n-1,00,0002,00,0003,00,0004,00,0005,00,000Sources of Financing FD\\n(Excluding Market Borrowings)Market BorrowingsMarket BorrowingsSources of Deﬁcit Financing\\nShort Term\\nBorrowingSecurities Against\\nSmall SavingsState\\nProvident Funds\\nOther Receipts\\n(Internal Debt and Public Account)External DebtDraw Down of\\nCash BalanceIn   croreUnion Interim Budget 2024-25ONLINE  |  DELHI  |  AHMEDABAD  |  BHOPAL  |  CHANDIGARH  |  GUWAHATI  |  HYDERABAD  |  JAIPUR  |  JODHPUR  |  LUCKNOW  |  PRAYAGRAJ  |  PUNE  |  RANCHI  |  SIKAR 11\\n0.00.51.01.52.02.5\\nFY14\\nFY15\\nFY16\\nFY17\\nFY18\\nFY19\\nFY20\\nFY21\\nFY22\\nFY23\\nH1: FY24PDG fo tnec rePDeclining CAD as % of GDP\\n6.15.8\\n4.8\\n4.2 4.1\\n3.2',\n",
       " '0.00.51.01.52.02.5\\nFY14\\nFY15\\nFY16\\nFY17\\nFY18\\nFY19\\nFY20\\nFY21\\nFY22\\nFY23\\nH1: FY24PDG fo tnec rePDeclining CAD as % of GDP\\n6.15.8\\n4.8\\n4.2 4.1\\n3.2\\n2017-182018-192019-202020-212021-222022-23Per centDeclining  Unemployment R ate \\n3.84.37.59.311.2\\n9.1\\n8.2\\n7.3\\n5.8\\n3.2FY14\\nFY15\\nFY16\\nFY17\\nFY18\\nFY19\\nFY20\\nFY21\\nFY22\\nSep-23secnavdA ssorG fo % a sAPN ssorGDeclining GNPAs as % of \\nGross Advances  \\n0400080001200016000\\nFY18FY19FY20FY21FY22FY23FY24CroreRising volume of Digital \\nTransactions\\n0.91.01.0\\n0.91.21.51.7\\n0.60.91.21.51.8\\nFY18\\nFY19\\nFY20\\nFY21\\nFY22\\nFY23\\nFY24erorC hkaL ₹Rise in average  monthly g ross \\nGST collection s\\n9.4\\n5.8\\n4.94.5\\n3.63.44.86.2\\n5.56.7\\n5.5FY14\\nFY15\\nFY16\\nFY17\\nFY18\\nFY19\\nFY20\\nFY21\\nFY22\\nFY23',\n",
       " '0.60.91.21.51.8\\nFY18\\nFY19\\nFY20\\nFY21\\nFY22\\nFY23\\nFY24erorC hkaL ₹Rise in average  monthly g ross \\nGST collection s\\n9.4\\n5.8\\n4.94.5\\n3.63.44.86.2\\n5.56.7\\n5.5FY14\\nFY15\\nFY16\\nFY17\\nFY18\\nFY19\\nFY20\\nFY21\\nFY22\\nFY23\\nFY24*Per centFall in Headline Inflati onPERFORMANCE OF INDIAN ECONOMYUnion Interim Budget 2024-25ONLINE  |  DELHI  |  AHMEDABAD  |  BHOPAL  |  CHANDIGARH  |  GUWAHATI  |  HYDERABAD  |  JAIPUR  |  JODHPUR  |  LUCKNOW  |  PRAYAGRAJ  |  PUNE  |  RANCHI  |  SIKAR 12\\nAppropriation\\nBillIt gives power to the government to withdraw funds from the Consolidated \\nFund of India for meeting the expenditure during the financial year. \\nOctroiIt is tax levied by a local municipal authority, on certain categories of \\ngoods as they enter the area.\\nSovereign',\n",
       " \"Fund of India for meeting the expenditure during the financial year. \\nOctroiIt is tax levied by a local municipal authority, on certain categories of \\ngoods as they enter the area.\\nSovereign\\nWealth FundsThey are state-owned investment pool that manages a country's financial \\nreserves, investing in various assets such as stocks, bonds, real estate, and \\nother instruments to generate long-term wealth and achieve economic \\nobjectives.\\nCustom Duty It is a tax imposed on imports and exports of goods.\\nTax arbitrageIt is strategically exploiting differences in tax regulations or rates between \\njurisdictions to minimise tax liability or maximise financial gains.\\nDirect taxesTax payments made directly to the government by individuals, including\",\n",
       " \"jurisdictions to minimise tax liability or maximise financial gains.\\nDirect taxesTax payments made directly to the government by individuals, including \\nincome tax, poll tax, land tax, and personal property tax.\\nIndirect TaxesTaxes imposed on goods and services, collected by intermediaries such as \\nmanufacturers or retailers who pass it on to the final consumer. Examples \\ninclude Goods and Services Tax (GST), excise duty, and customs duty.Union Interim Budget 2024-25Revenue\\nreceiptsIt refers to the money the government receives without incurring debts or \\nlosing valuable assets, covering items like taxes, profits from public enter-\\nprises, and fees for services.\\nCorporate taxIt is a direct tax imposed by governments on a company's profits,\",\n",
       " \"losing valuable assets, covering items like taxes, profits from public enter-\\nprises, and fees for services.\\nCorporate taxIt is a direct tax imposed by governments on a company's profits, \\ncalculated as a percentage of its net income, to generate revenue for public \\nservices and infrastructure.\\nTax buoyancyIt measures how tax revenues respond to changes in economic output, \\nreflecting an economy's attributes, effective collections, and the impact of \\npolicy measures over time.\\nViability gap\\nfundingIt provides grants to back economically justified yet financially nonviable \\nprojects.\\nPresumptive\\ntaxationIt is a simplified method allowing eligible businesses to declare a pre-\\nscribed percentage of turnover as income, streamlining tax compliance by\",\n",
       " \"projects.\\nPresumptive\\ntaxationIt is a simplified method allowing eligible businesses to declare a pre-\\nscribed percentage of turnover as income, streamlining tax compliance by \\nminimising the need for detailed accounting records.\\nInflation It is the rate of increase in prices over or how much more expensive a set of \\ngoods and services has become over a given time period.\\nCapital\\nexpenditureIt is the government's investment in long-term development, including \\nmachinery, buildings, and education, as well as acquiring assets like land \\nand profitable investments for future returns.\\nBudget\\nestimatesThey are financial projections presented by the Union finance minister, \\noutlining allocations for different sectors in the annual budget. They signify\",\n",
       " \"Budget\\nestimatesThey are financial projections presented by the Union finance minister, \\noutlining allocations for different sectors in the annual budget. They signify \\nthe government's intended expenditure but are not exact figures or binding \\ncommitment.\\nDirect\\nBenefit\\nTransferThe aim of DBT is to transfer the benefits and subsidies of various social \\nwelfare schemes directly in the bank account of the beneficiary on time. \\nThis eliminates the intermediary body, prevent any frauds and brings effi-\\nciency, effectiveness and transparency.\\nLabour Force\\nParticipation\\nrateIt is a measure of the proportion of a country's working-age population \\nthat engages actively in the labour market, either by working or looking for \\nwork.GLOSSARYIMPORTANT CONSTITUTIONAL PROVISIONS RELATED TO BUDGET\",\n",
       " 'that engages actively in the labour market, either by working or looking for \\nwork.GLOSSARYIMPORTANT CONSTITUTIONAL PROVISIONS RELATED TO BUDGET\\nARTICLE PROVISION\\nArticle 109 Special procedure in respect of Money Bills\\nArticle 110 Definition of Money Bills\\nArticle 112 Annual Financial Statement\\nArticle 113 Procedure in Parliament with respect to Estimates.\\nArticle 114 Appropriation Bills\\nArticle 115 Supplementary, Additional or Excess Grants.\\nArticle 116 Vote on account, Vote of credit and Exceptional Grant\\nArticle 117 Special provisions as to Financial Bills\\nArticle 150 Form of accounts of the Union and of the States\\nArticle 151 Audit reports\\nArticle 265 Taxes not to be imposed except by authority of law\\nConsolidated Funds and Public Accounts of India and of the States Article 266',\n",
       " 'Article 151 Audit reports\\nArticle 265 Taxes not to be imposed except by authority of law\\nConsolidated Funds and Public Accounts of India and of the States Article 266\\nContingency Fund Article 267\\nGrants from the Union to certain States Article 275\\nFinance Commission Article 280\\nRecommendations of the Finance Commission Article 281\\nBorrowing by the Government of India Article 292\\nUnion Interim Budget 2024-25']"
      ]
     },
     "execution_count": 29,
     "metadata": {},
     "output_type": "execute_result"
    }
   ],
   "source": [
    "texts[:50]"
   ]
  },
  {
   "cell_type": "code",
   "execution_count": 30,
   "id": "1027c9f1",
   "metadata": {},
   "outputs": [
    {
     "ename": "NameError",
     "evalue": "name 'astra_vector_store' is not defined",
     "output_type": "error",
     "traceback": [
      "\u001b[0;31m---------------------------------------------------------------------------\u001b[0m",
      "\u001b[0;31mNameError\u001b[0m                                 Traceback (most recent call last)",
      "Cell \u001b[0;32mIn[30], line 1\u001b[0m\n\u001b[0;32m----> 1\u001b[0m astra_vector_store\u001b[38;5;241m.\u001b[39madd_texts(texts[:\u001b[38;5;241m50\u001b[39m])\n\u001b[1;32m      3\u001b[0m \u001b[38;5;28mprint\u001b[39m(\u001b[38;5;124m\"\u001b[39m\u001b[38;5;124mInserted \u001b[39m\u001b[38;5;132;01m%i\u001b[39;00m\u001b[38;5;124m headlines.\u001b[39m\u001b[38;5;124m\"\u001b[39m \u001b[38;5;241m%\u001b[39m \u001b[38;5;28mlen\u001b[39m(texts[:\u001b[38;5;241m50\u001b[39m]))\n\u001b[1;32m      5\u001b[0m astra_vector_index \u001b[38;5;241m=\u001b[39m VectorStoreIndexWrapper(vectorstore\u001b[38;5;241m=\u001b[39mastra_vector_store)\n",
      "\u001b[0;31mNameError\u001b[0m: name 'astra_vector_store' is not defined"
     ]
    }
   ],
   "source": [
    "astra_vector_store.add_texts(texts[:50])\n",
    "\n",
    "print(\"Inserted %i headlines.\" % len(texts[:50]))\n",
    "\n",
    "astra_vector_index = VectorStoreIndexWrapper(vectorstore=astra_vector_store)"
   ]
  },
  {
   "cell_type": "code",
   "execution_count": 38,
   "id": "678a2f2a",
   "metadata": {},
   "outputs": [
    {
     "name": "stdout",
     "output_type": "stream",
     "text": [
      "\n",
      "Enter your question (or type 'quit' to exit): what is current GDP?\n",
      "\n",
      "QUESTION: \"what is current GDP?\"\n"
     ]
    },
    {
     "ename": "NameError",
     "evalue": "name 'astra_vector_index' is not defined",
     "output_type": "error",
     "traceback": [
      "\u001b[0;31m---------------------------------------------------------------------------\u001b[0m",
      "\u001b[0;31mNameError\u001b[0m                                 Traceback (most recent call last)",
      "Cell \u001b[0;32mIn[38], line 17\u001b[0m\n\u001b[1;32m     14\u001b[0m first_question \u001b[38;5;241m=\u001b[39m \u001b[38;5;28;01mFalse\u001b[39;00m\n\u001b[1;32m     16\u001b[0m \u001b[38;5;28mprint\u001b[39m(\u001b[38;5;124m\"\u001b[39m\u001b[38;5;130;01m\\n\u001b[39;00m\u001b[38;5;124mQUESTION: \u001b[39m\u001b[38;5;130;01m\\\"\u001b[39;00m\u001b[38;5;132;01m%s\u001b[39;00m\u001b[38;5;130;01m\\\"\u001b[39;00m\u001b[38;5;124m\"\u001b[39m \u001b[38;5;241m%\u001b[39m query_text)\n\u001b[0;32m---> 17\u001b[0m answer \u001b[38;5;241m=\u001b[39m astra_vector_index\u001b[38;5;241m.\u001b[39mquery(query_text, llm\u001b[38;5;241m=\u001b[39mllm)\u001b[38;5;241m.\u001b[39mstrip()\n\u001b[1;32m     18\u001b[0m \u001b[38;5;28mprint\u001b[39m(\u001b[38;5;124m\"\u001b[39m\u001b[38;5;124mANSWER: \u001b[39m\u001b[38;5;130;01m\\\"\u001b[39;00m\u001b[38;5;132;01m%s\u001b[39;00m\u001b[38;5;130;01m\\\"\u001b[39;00m\u001b[38;5;130;01m\\n\u001b[39;00m\u001b[38;5;124m\"\u001b[39m \u001b[38;5;241m%\u001b[39m answer)\n\u001b[1;32m     20\u001b[0m \u001b[38;5;28mprint\u001b[39m(\u001b[38;5;124m\"\u001b[39m\u001b[38;5;124mFIRST DOCUMENTS BY RELEVANCE:\u001b[39m\u001b[38;5;124m\"\u001b[39m)\n",
      "\u001b[0;31mNameError\u001b[0m: name 'astra_vector_index' is not defined"
     ]
    }
   ],
   "source": [
    "first_question = True\n",
    "while True:\n",
    "    if first_question:\n",
    "        query_text = input(\"\\nEnter your question (or type 'quit' to exit): \").strip()\n",
    "    else:\n",
    "        query_text = input(\"\\nWhat's your next question (or type 'quit' to exit): \").strip()\n",
    "\n",
    "    if query_text.lower() == \"quit\":\n",
    "        break\n",
    "\n",
    "    if query_text == \"\":\n",
    "        continue\n",
    "\n",
    "    first_question = False\n",
    "\n",
    "    print(\"\\nQUESTION: \\\"%s\\\"\" % query_text)\n",
    "    answer = astra_vector_index.query(query_text, llm=llm).strip()\n",
    "    print(\"ANSWER: \\\"%s\\\"\\n\" % answer)\n",
    "\n",
    "    print(\"FIRST DOCUMENTS BY RELEVANCE:\")\n",
    "    for doc, score in astra_vector_store.similarity_search_with_score(query_text, k=4):\n",
    "        print(\"    [%0.4f] \\\"%s ...\\\"\" % (score, doc.page_content[:84]))"
   ]
  },
  {
   "cell_type": "code",
   "execution_count": null,
   "id": "853f8d6f",
   "metadata": {},
   "outputs": [],
   "source": []
  }
 ],
 "metadata": {
  "kernelspec": {
   "display_name": "Python 3 (ipykernel)",
   "language": "python",
   "name": "python3"
  },
  "language_info": {
   "codemirror_mode": {
    "name": "ipython",
    "version": 3
   },
   "file_extension": ".py",
   "mimetype": "text/x-python",
   "name": "python",
   "nbconvert_exporter": "python",
   "pygments_lexer": "ipython3",
   "version": "3.11.4"
  }
 },
 "nbformat": 4,
 "nbformat_minor": 5
}
